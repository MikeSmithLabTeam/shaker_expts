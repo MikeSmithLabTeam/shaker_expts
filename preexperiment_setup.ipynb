{
 "cells": [
  {
   "cell_type": "markdown",
   "metadata": {},
   "source": [
    "# Preexperiment Setup\n",
    "\n",
    "## Experiment setup\n",
    "\n",
    "For details about the physical experiment setup see the system_details notebook.\n",
    "\n",
    "### Quick checklist\n",
    "\n",
    "Before starting a series of experiments, \n",
    "\n",
    "    - the balls need to be cleaned in detergent, water, de-ionised water and dried. Leave on a metal sieve. \n",
    "    - The surface needs a light clean with IPA and a cloth but don't rub too hard. \n",
    "    - Check the sandblasting still looks fresh.\n",
    "\n",
    "### Setup filestructure\n",
    "\n",
    "Use the next set of code to setup your filestructure etc."
   ]
  },
  {
   "cell_type": "code",
   "execution_count": null,
   "metadata": {},
   "outputs": [],
   "source": [
    "import os\n",
    "import datetime\n",
    "\n",
    "project_filepath = 'E:/RawData/Mike/Intruders/Intruder_expts/'\n",
    "expt_folder = datetime.datetime.now().strftime('%Y_%m_%d')\n",
    "\n",
    "if not os.path.isdir(project_filepath + expt_folder + '/'):\n",
    "    os.mkdir(project_filepath + expt_folder + '/')\n",
    "    print(\"Setting up new experimental folder : \", project_filepath + expt_folder)\n"
   ]
  },
  {
   "cell_type": "markdown",
   "metadata": {},
   "source": [
    "## Define system boundary\n",
    "\n",
    "Start by defining the boundary of the experiment using this code. Click on each corner of the boundary in the image and then press spacebar. *Only necessary if you'ved moved something*"
   ]
  },
  {
   "cell_type": "code",
   "execution_count": null,
   "metadata": {},
   "outputs": [],
   "source": [
    "from shaker.balance import find_boundary\n",
    "from labvision.camera import Camera\n",
    "\n",
    "with Camera() as cam:\n",
    "    boundary_pts = find_boundary(cam, shape='polygon')\n",
    "\n",
    "print(boundary_pts)"
   ]
  },
  {
   "cell_type": "markdown",
   "metadata": {},
   "source": [
    "## Check stepper motor communication is working\n",
    "\n",
    "The stepper motors can be a bit temperamental. Run the next cell to check that the motors are working. They move very slowly so look carefully. \n",
    "\n",
    "The issue is to do with the serial communication. If the motors are not moving, try the following fixes in this order:\n",
    "\n",
    "    1. Try restarting the kernel\n",
    "    2. Restart the arduino and the computer. Switch off DC power supply to arduino when restarting\n",
    "    "
   ]
  },
  {
   "cell_type": "code",
   "execution_count": null,
   "metadata": {},
   "outputs": [],
   "source": [
    "from shaker.stepperXY import StepperXY\n",
    "\n",
    "with StepperXY() as motors:\n",
    "    motors.movexy(0, 0)"
   ]
  },
  {
   "cell_type": "markdown",
   "metadata": {},
   "source": [
    "## Get Motor Limits\n",
    "\n",
    "Movements in x and y ~ 15000-20000 seem enough to tip the shaker from one side to the other. You may bottom out the motors if not careful so make sure you know which way things are moving. You want one limit above and left and one below and right. You are trying to tell the system the motor limits that create a square box on the surface that it should search in. \n"
   ]
  },
  {
   "cell_type": "code",
   "execution_count": 1,
   "metadata": {},
   "outputs": [
    {
     "name": "stdout",
     "output_type": "stream",
     "text": [
      "shaker init\n",
      "stepperxy init\n",
      "Motor limits from config file [(x1,x2),(y1,y2)] :  [[0, 0], [0, 0]]\n",
      "x,y coords of centre of mass:  625.463691479119 291.90111625947765\n",
      "returned values:  625.463691479119 291.90111625947765\n",
      "(625.463691479119, 291.90111625947765)\n"
     ]
    },
    {
     "data": {
      "text/plain": [
       "array([[[ 96, 106, 108],\n",
       "        [ 96, 106, 108],\n",
       "        [ 96, 106, 108],\n",
       "        ...,\n",
       "        [ 71,  73,  77],\n",
       "        [ 72,  74,  78],\n",
       "        [ 72,  74,  78]],\n",
       "\n",
       "       [[101, 109, 112],\n",
       "        [101, 109, 112],\n",
       "        [101, 109, 112],\n",
       "        ...,\n",
       "        [ 69,  71,  75],\n",
       "        [ 68,  70,  74],\n",
       "        [ 68,  70,  74]],\n",
       "\n",
       "       [[ 97, 104, 107],\n",
       "        [ 97, 104, 107],\n",
       "        [ 97, 104, 107],\n",
       "        ...,\n",
       "        [ 68,  70,  74],\n",
       "        [ 66,  68,  72],\n",
       "        [ 65,  67,  71]],\n",
       "\n",
       "       ...,\n",
       "\n",
       "       [[113, 120, 123],\n",
       "        [105, 112, 115],\n",
       "        [ 95, 102, 105],\n",
       "        ...,\n",
       "        [ 93,  92,  96],\n",
       "        [ 95,  94,  98],\n",
       "        [ 98,  97, 101]],\n",
       "\n",
       "       [[106, 113, 116],\n",
       "        [100, 107, 110],\n",
       "        [ 93, 100, 103],\n",
       "        ...,\n",
       "        [ 89,  88,  92],\n",
       "        [ 93,  92,  96],\n",
       "        [ 99,  98, 102]],\n",
       "\n",
       "       [[ 96, 103, 106],\n",
       "        [ 94, 101, 104],\n",
       "        [ 92,  99, 102],\n",
       "        ...,\n",
       "        [ 85,  84,  88],\n",
       "        [ 91,  90,  94],\n",
       "        [ 99,  98, 102]]], dtype=uint8)"
      ]
     },
     "metadata": {},
     "output_type": "display_data"
    },
    {
     "name": "stdout",
     "output_type": "stream",
     "text": [
      "Window already closed\n",
      "Point requested: (15000,5000) : Discarded\n",
      "x,y coords of centre of mass:  566.4738822666422 294.1079405831652\n",
      "returned values:  566.4738822666422 294.1079405831652\n",
      "(566.4738822666422, 294.1079405831652)\n"
     ]
    },
    {
     "data": {
      "text/plain": [
       "array([[[ 97, 107, 109],\n",
       "        [ 96, 106, 108],\n",
       "        [ 96, 106, 108],\n",
       "        ...,\n",
       "        [ 67,  69,  73],\n",
       "        [ 68,  70,  74],\n",
       "        [ 70,  72,  76]],\n",
       "\n",
       "       [[ 93, 101, 104],\n",
       "        [ 93, 101, 104],\n",
       "        [ 94, 102, 105],\n",
       "        ...,\n",
       "        [ 67,  69,  73],\n",
       "        [ 68,  70,  74],\n",
       "        [ 71,  73,  77]],\n",
       "\n",
       "       [[101, 108, 111],\n",
       "        [101, 108, 111],\n",
       "        [100, 107, 110],\n",
       "        ...,\n",
       "        [ 67,  69,  73],\n",
       "        [ 69,  71,  75],\n",
       "        [ 72,  74,  78]],\n",
       "\n",
       "       ...,\n",
       "\n",
       "       [[104, 111, 114],\n",
       "        [101, 108, 111],\n",
       "        [ 97, 104, 107],\n",
       "        ...,\n",
       "        [ 89,  94,  97],\n",
       "        [ 89,  94,  97],\n",
       "        [ 92,  97, 100]],\n",
       "\n",
       "       [[101, 108, 111],\n",
       "        [ 97, 104, 107],\n",
       "        [ 93, 100, 103],\n",
       "        ...,\n",
       "        [ 84,  89,  92],\n",
       "        [ 87,  92,  95],\n",
       "        [ 92,  97, 100]],\n",
       "\n",
       "       [[ 97, 104, 107],\n",
       "        [ 93, 100, 103],\n",
       "        [ 90,  97, 100],\n",
       "        ...,\n",
       "        [ 81,  86,  89],\n",
       "        [ 86,  91,  94],\n",
       "        [ 92,  97, 100]]], dtype=uint8)"
      ]
     },
     "metadata": {},
     "output_type": "display_data"
    },
    {
     "name": "stdout",
     "output_type": "stream",
     "text": [
      "Window already closed\n",
      "Point requested: (10000,5000) : Accepted for top left\n",
      "x,y coords of centre of mass:  609.6036786883751 370.3516482681598\n",
      "returned values:  609.6036786883751 370.3516482681598\n",
      "(609.6036786883751, 370.3516482681598)\n"
     ]
    },
    {
     "data": {
      "text/plain": [
       "array([[[ 97, 105, 112],\n",
       "        [ 97, 105, 112],\n",
       "        [ 97, 105, 112],\n",
       "        ...,\n",
       "        [ 71,  73,  77],\n",
       "        [ 71,  73,  77],\n",
       "        [ 70,  72,  76]],\n",
       "\n",
       "       [[106, 113, 120],\n",
       "        [105, 112, 119],\n",
       "        [104, 111, 118],\n",
       "        ...,\n",
       "        [ 72,  74,  78],\n",
       "        [ 71,  73,  77],\n",
       "        [ 71,  73,  77]],\n",
       "\n",
       "       [[101, 107, 113],\n",
       "        [101, 107, 113],\n",
       "        [100, 106, 112],\n",
       "        ...,\n",
       "        [ 72,  74,  78],\n",
       "        [ 72,  74,  78],\n",
       "        [ 71,  73,  77]],\n",
       "\n",
       "       ...,\n",
       "\n",
       "       [[106, 113, 116],\n",
       "        [104, 111, 114],\n",
       "        [100, 107, 110],\n",
       "        ...,\n",
       "        [ 95, 100, 103],\n",
       "        [ 94,  99, 102],\n",
       "        [ 94,  99, 102]],\n",
       "\n",
       "       [[103, 110, 113],\n",
       "        [101, 108, 111],\n",
       "        [ 98, 105, 108],\n",
       "        ...,\n",
       "        [ 92,  97, 100],\n",
       "        [ 92,  97, 100],\n",
       "        [ 93,  98, 101]],\n",
       "\n",
       "       [[ 98, 105, 108],\n",
       "        [ 98, 105, 108],\n",
       "        [ 95, 102, 105],\n",
       "        ...,\n",
       "        [ 90,  95,  98],\n",
       "        [ 90,  95,  98],\n",
       "        [ 93,  98, 101]]], dtype=uint8)"
      ]
     },
     "metadata": {},
     "output_type": "display_data"
    },
    {
     "name": "stdout",
     "output_type": "stream",
     "text": [
      "Window already closed\n",
      "Point requested: (20000,-5000) : Discarded\n",
      "x,y coords of centre of mass:  718.6784379643109 333.78605303837554\n",
      "returned values:  718.6784379643109 333.78605303837554\n",
      "(718.6784379643109, 333.78605303837554)\n"
     ]
    },
    {
     "data": {
      "text/plain": [
       "array([[[100, 107, 110],\n",
       "        [100, 107, 110],\n",
       "        [ 99, 106, 109],\n",
       "        ...,\n",
       "        [ 67,  69,  73],\n",
       "        [ 67,  69,  73],\n",
       "        [ 66,  68,  72]],\n",
       "\n",
       "       [[ 92,  99, 102],\n",
       "        [ 92,  99, 102],\n",
       "        [ 93, 100, 103],\n",
       "        ...,\n",
       "        [ 68,  70,  74],\n",
       "        [ 67,  69,  73],\n",
       "        [ 67,  69,  73]],\n",
       "\n",
       "       [[ 99, 106, 109],\n",
       "        [ 99, 106, 109],\n",
       "        [ 99, 106, 109],\n",
       "        ...,\n",
       "        [ 68,  70,  74],\n",
       "        [ 68,  70,  74],\n",
       "        [ 67,  69,  73]],\n",
       "\n",
       "       ...,\n",
       "\n",
       "       [[104, 111, 114],\n",
       "        [101, 108, 111],\n",
       "        [ 97, 104, 107],\n",
       "        ...,\n",
       "        [ 91,  96,  99],\n",
       "        [ 90,  95,  98],\n",
       "        [ 91,  96,  99]],\n",
       "\n",
       "       [[101, 108, 111],\n",
       "        [ 97, 104, 107],\n",
       "        [ 93, 100, 103],\n",
       "        ...,\n",
       "        [ 87,  92,  95],\n",
       "        [ 89,  94,  97],\n",
       "        [ 91,  96,  99]],\n",
       "\n",
       "       [[ 97, 104, 107],\n",
       "        [ 93, 100, 103],\n",
       "        [ 90,  97, 100],\n",
       "        ...,\n",
       "        [ 85,  90,  93],\n",
       "        [ 87,  92,  95],\n",
       "        [ 90,  95,  98]]], dtype=uint8)"
      ]
     },
     "metadata": {},
     "output_type": "display_data"
    },
    {
     "name": "stdout",
     "output_type": "stream",
     "text": [
      "Window already closed\n",
      "Point requested: (30000,-10000) : Discarded\n",
      "x,y coords of centre of mass:  722.8979811394951 433.4919905920062\n",
      "returned values:  722.8979811394951 433.4919905920062\n",
      "(722.8979811394951, 433.4919905920062)\n"
     ]
    },
    {
     "data": {
      "text/plain": [
       "array([[[ 98, 105, 108],\n",
       "        [ 98, 105, 108],\n",
       "        [ 98, 105, 108],\n",
       "        ...,\n",
       "        [ 73,  75,  79],\n",
       "        [ 74,  76,  80],\n",
       "        [ 74,  76,  80]],\n",
       "\n",
       "       [[100, 107, 110],\n",
       "        [100, 107, 110],\n",
       "        [100, 107, 110],\n",
       "        ...,\n",
       "        [ 71,  73,  77],\n",
       "        [ 70,  72,  76],\n",
       "        [ 70,  72,  76]],\n",
       "\n",
       "       [[102, 109, 112],\n",
       "        [102, 109, 112],\n",
       "        [102, 109, 112],\n",
       "        ...,\n",
       "        [ 70,  72,  76],\n",
       "        [ 68,  70,  74],\n",
       "        [ 67,  69,  73]],\n",
       "\n",
       "       ...,\n",
       "\n",
       "       [[108, 115, 118],\n",
       "        [105, 112, 115],\n",
       "        [101, 108, 111],\n",
       "        ...,\n",
       "        [100,  99, 103],\n",
       "        [ 99,  98, 102],\n",
       "        [100,  99, 103]],\n",
       "\n",
       "       [[105, 112, 115],\n",
       "        [101, 108, 111],\n",
       "        [ 97, 104, 107],\n",
       "        ...,\n",
       "        [ 96,  95,  99],\n",
       "        [ 98,  97, 101],\n",
       "        [100,  99, 103]],\n",
       "\n",
       "       [[101, 108, 111],\n",
       "        [ 97, 104, 107],\n",
       "        [ 94, 101, 104],\n",
       "        ...,\n",
       "        [ 94,  93,  97],\n",
       "        [ 96,  95,  99],\n",
       "        [ 99,  98, 102]]], dtype=uint8)"
      ]
     },
     "metadata": {},
     "output_type": "display_data"
    },
    {
     "name": "stdout",
     "output_type": "stream",
     "text": [
      "Window already closed\n",
      "Point requested: (30000,-20000) : Accepted for bottom right\n",
      "Motor limits set interactively [(x1,x2),(y1,y2)] :  [(10000, 30000), (-20000, 5000)]\n",
      "port closed\n",
      "port closed\n",
      "Shaker communication closed\n"
     ]
    },
    {
     "data": {
      "image/png": "[encoded data removed]",
      "text/plain": [
       "<Figure size 640x480 with 1 Axes>"
      ]
     },
     "metadata": {},
     "output_type": "display_data"
    }
   ],
   "source": [
    "## Set motor limits\n",
    "from shaker.balance import Balancer\n",
    "from shaker.stepperXY import StepperXY\n",
    "from shaker.shaker import Shaker\n",
    "from shaker.levelling import measure_com\n",
    "from labvision.camera import Camera\n",
    "from labvision.camera.camera_config import CameraType\n",
    "\n",
    "\n",
    "panasonic = CameraType.PANASONICHCX1000 #creating camera object.\n",
    "cam =  Camera(cam_type=panasonic)\n",
    "\n",
    "with Shaker() as shaker, StepperXY() as motors:\n",
    "    bal=Balancer(shaker, cam, motors, measure_fn=measure_com)\n",
    "    bal.set_boundary(set_boundary_pts=False)\n",
    "    motor_limits = bal.set_motor_limits(set_limits=True)"
   ]
  },
  {
   "cell_type": "markdown",
   "metadata": {},
   "source": [
    "## Leaving the system to get on with it\n",
    "\n",
    "*General Warning*\n",
    "\n",
    "The magnet that drives the shaker has a warming up period. Run the shaker at a dutycycle of 500 with the water cooler on for 90 mins before starting experiments. If you skip this step your accelerations won't be correctly calibrated to the duty_cycles.\n",
    "\n",
    "Before running the automated setup it is worth doing checks. Are all bits talking to the computer correctly! Switch on the water bath etc and start the shaker running then set the delay_timer at the top, hit run and leave it to get on with it. Check the shaker's toggle switch  is on. Don't forget to press the relay button on the back of the power supply. My personal favourite mistake!\n",
    "\n",
    "1. The system will wait for delay_timer_hours with the shaker duty_cycle at 0\n",
    "2. The system will then warm up for 2 hours at a duty_cycle of 500\n",
    "3. The system will level itself (probably take a long time!)\n",
    "4. The system will collect an acceleration calibration curve\n",
    "5. You can come in and start work (hopefully ;-)\n",
    "\n",
    "Hopefully timings should be consistent."
   ]
  },
  {
   "cell_type": "code",
   "execution_count": null,
   "metadata": {},
   "outputs": [],
   "source": [
    "#Quick variables\n",
    "delay_timer_hours = 0"
   ]
  },
  {
   "cell_type": "code",
   "execution_count": null,
   "metadata": {},
   "outputs": [],
   "source": [
    "# Delays the setup by x hours then warms for 2 hours\n",
    "import time\n",
    "from shaker.shaker import Shaker\n",
    "\n",
    "def start_expt_setup(delay_timer_hours):\n",
    "    for i in range(delay_timer_hours):\n",
    "        print('Starting expt setup in ' + str(delay_timer_hours - i) + ' hours')\n",
    "        time.sleep(3600)\n",
    "\n",
    "sh = Shaker()\n",
    "sh.set_duty(0)\n",
    "start_expt_setup(delay_timer_hours)\n",
    "sh.set_duty(500)\n",
    "start_expt_setup(1)\n",
    "sh.quit()"
   ]
  },
  {
   "cell_type": "markdown",
   "metadata": {},
   "source": [
    "## Levelling the shaker\n",
    "\n",
    "When levelling system use the same balls being used for the experiments. The balls need to be cleaned in detergent, water, de-ionised water and dried. The levelling uses the 4k Video Capture card to take pictures of the tray. These images are processed using a function that works out where the centre of mass of all the particles in the tray is. At the start the user defines where the centre is by clicking the corners of the boundary. The system then moves the motors systematically to try and minimise the distance between the true centre of tray and centre of mass of particles.\n",
    "\n",
    "The state of the motors is stored in a file on the drive at MikeSmithLabSharedFolder:\\shaker_config\\motor_positions.txt\n",
    "The code assumes that MikeSmithLabSharedFolder is mounted as the Z:\n",
    "You can alter this in the shaker/settings.py\n",
    "\n",
    "If you encounter errors in serial connections / can't find cameras etc\n",
    "\n",
    "1. Check everythiing is plugged in and powered on.\n",
    "\n",
    "2. Restart the computer as Windows assigns the serial ports at startup."
   ]
  },
  {
   "cell_type": "markdown",
   "metadata": {},
   "source": [
    "Fill system with particles about the number shown below:\n",
    "\n",
    "<div> <img src=\"imgs/level_starting.jpg\" alt=\"Drawing\" style=\"width: 500px;\"/></div>\n",
    "\n",
    "The system then begins the process of levelling. You can check the system is improving the level by looking at the plot of the minimization function and the tracked centre in the image. The levelling process is slow and depending on how far out it is, it will take hours and is best done by leaving the system overnight once it is warmed up.\n",
    "\n",
    "It measures the level by using an image processing function to identify centre of mass of particles. It then moves the motors to try and minimise the distance between the centre of mass and the centre of the tray. It uses a minimization routine called gp_minimize from scikit-optimize. \n",
    "\n",
    "initial_iterations is the number of measurements per position to determine the centre of mass\n",
    "ncalls is how many steps it will take to level the system."
   ]
  },
  {
   "cell_type": "code",
   "execution_count": null,
   "metadata": {},
   "outputs": [],
   "source": [
    "#%matplotlib widget\n",
    "from shaker.levelling import balance_shaker\n",
    "\n",
    "#passing boundary_pts=None will allow the user to manually select the boundary points\n",
    "boundary_pts = None\n",
    "balance_shaker(initial_iterations=10, ncalls=100, boundary_pts=boundary_pts)"
   ]
  },
  {
   "cell_type": "markdown",
   "metadata": {},
   "source": [
    "### Calibrating the system and accelerometer\n",
    "\n",
    "Run a script to collect duty cycles and corresponding measured peak accelerations from the RPI-LCD (i.e $\\Gamma = a\\omega^{2}/g$). The output file will be used in particle tracker to convert the duty cycle to the corresponding acceleration. The code on the RPI-LCD is in the <a href=\"https://github.com/mikesmithlab/Accelerometer\">Accelerometer</a> repository. <a href=\"https://github.com/MikeSmithLabTeam/labequipment/blob/master/labequipment/accelerometer.py\">Labequipment</a> has python code to interface with and read results."
   ]
  },
  {
   "cell_type": "code",
   "execution_count": null,
   "metadata": {},
   "outputs": [],
   "source": [
    "from shaker.calibrate_accelerometer import calibrate_accelerometer\n",
    "import pandas as pd\n",
    "\n",
    "duty_cycles, acceleration = calibrate_accelerometer(start=300, stop=900, step=100)\n",
    "pd.DataFrame({'duty_cycle': duty_cycles, 'acceleration': acceleration}).to_csv('acceleration_calibration_curve.csv', index=False)"
   ]
  },
  {
   "cell_type": "code",
   "execution_count": null,
   "metadata": {},
   "outputs": [],
   "source": [
    "import matplotlib.pyplot as plt\n",
    "import pandas as pd\n",
    "\n",
    "df = pd.read_csv('acceleration_calibration_curve.csv')\n",
    "plt.plot(df['duty_cycle'], df['acceleration'],'r-')\n",
    "plt.xlabel('Duty Cycle')\n",
    "plt.ylabel('Acceleration')\n",
    "plt.title('Calibration Curve')"
   ]
  },
  {
   "cell_type": "markdown",
   "metadata": {},
   "source": [
    "Already have duty_cycle postprocessing function in particletracker.\n",
    "Need to add postprocessing function that adds calibrated accelerations to df in particletracker."
   ]
  },
  {
   "cell_type": "markdown",
   "metadata": {},
   "source": []
  }
 ],
 "metadata": {
  "kernelspec": {
   "display_name": "dimples",
   "language": "python",
   "name": "python3"
  },
  "language_info": {
   "codemirror_mode": {
    "name": "ipython",
    "version": 3
   },
   "file_extension": ".py",
   "mimetype": "text/x-python",
   "name": "python",
   "nbconvert_exporter": "python",
   "pygments_lexer": "ipython3",
   "version": "3.10.13"
  },
  "orig_nbformat": 4
 },
 "nbformat": 4,
 "nbformat_minor": 2
}
