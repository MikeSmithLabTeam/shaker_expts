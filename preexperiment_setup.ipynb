{
 "cells": [
  {
   "cell_type": "markdown",
   "metadata": {},
   "source": [
    "# Preexperiment Setup\n",
    "\n",
    "## 1 Experiment setup\n",
    "\n",
    "For details about the physical experiment setup see the system_details notebook.\n",
    "\n",
    "### 1.1 Quick checklist\n",
    "\n",
    "Before starting a series of experiments, \n",
    "\n",
    "    - the balls need to be cleaned in detergent, water, de-ionised water and dried. Leave on a metal sieve. \n",
    "    - The surface needs a light clean with IPA and a cloth but don't rub too hard. \n",
    "    - Check the sandblasting still looks fresh."
   ]
  },
  {
   "cell_type": "markdown",
   "metadata": {},
   "source": [
    "Fill system with particles about the number shown below:\n",
    "\n",
    "<div> <img src=\"imgs/level_starting.jpg\" alt=\"Drawing\" style=\"width: 300px;\"/></div>"
   ]
  },
  {
   "cell_type": "markdown",
   "metadata": {},
   "source": [
    "## 2 Define system boundary\n",
    "\n",
    "Start by defining the boundary of the experiment using this code. Click on each corner of the boundary in the image and then press spacebar. *Only necessary if you'ved moved something*\n",
    "\n",
    "<div> <img src=\"imgs/boundary_pts.png\" alt=\"Drawing\" style=\"width: 300px;\"/></div>\n",
    "\n",
    "**It is important to know that as the shaker is tilted by the motors, the selected boundary and hence mid point of the shaker will move slightly**. If you need it super flat you may need to go through the process twice. ie run the levelling, then reselect boundary points and refine motor limits before relevelling.\n",
    "\n",
    "Sometimes the window just appears on the taskbar and you need to click on it to see it. You can maximise window and use scroll button on mouse to zoom in and out."
   ]
  },
  {
   "cell_type": "code",
   "execution_count": 7,
   "metadata": {},
   "outputs": [
    {
     "name": "stdout",
     "output_type": "stream",
     "text": [
      "(((352, 12), (751, 17), (945, 363), (745, 705), (349, 703), (150, 359)), 548.6666666666666, 359.8333333333333)\n"
     ]
    }
   ],
   "source": [
    "from labvision.camera import Camera\n",
    "from labvision.camera.camera_config import CameraType\n",
    "from shaker.centre_mass import find_boundary\n",
    "from shaker.settings import update_settings_file\n",
    "\n",
    "panasonic = CameraType.PANASONICHCX1000\n",
    "with Camera(cam_type=panasonic) as cam:\n",
    "    boundary_pts = find_boundary(cam, shape='polygon')\n",
    "    update_settings_file(boundary_pts=boundary_pts)\n",
    "\n",
    "#Output is a list of tuples corresponding to the boundary points and the centroid\n",
    "print(boundary_pts)"
   ]
  },
  {
   "cell_type": "markdown",
   "metadata": {},
   "source": [
    "## 3 Check stepper motor communication and get experiment approx manual level\n",
    "\n",
    "Decide which image analysis you will use:\n",
    "\n",
    "`com_balls` for dilute systems. Use this unless you have a very good reason not to as the alternative is painfully slow.\n",
    "`com_bubble` for concentrated systems.\n",
    "\n",
    "If you choose the latter you'll need to go through the file and comment in / out the com_bubble / com_balls lines.\n",
    "\n",
    "### 3.1 Stepper motor comms\n",
    "\n",
    "The stepper motors `position` is a value stored in the \"z:\\\\MikeSmithLabSharedFolder\\shaker_config\\shaker1_params.txt\". It is worth checking the value for motor_pos and not specifying a value that is too far away. I usually put the value that is in the file in as the initial value.\n",
    "\n",
    "Run the next cell to check that the motors are working. They move very slowly so look carefully. If they don't move change the values by 1000 and try again. If they still don't move the issue is try the following fixes in this order:\n",
    "    \n",
    "    1. Try restarting the kernel\n",
    "    \n",
    "    2. Restart the arduino and the computer. Switch off DC power supply to arduino when restarting"
   ]
  },
  {
   "cell_type": "code",
   "execution_count": 47,
   "metadata": {},
   "outputs": [
    {
     "name": "stdout",
     "output_type": "stream",
     "text": [
      "stepperxy init\n",
      "port closed\n"
     ]
    }
   ],
   "source": [
    "from shaker.stepperXY import StepperXY\n",
    "\n",
    "with StepperXY() as motors:\n",
    "    motors.movexy(900,1550)\n"
   ]
  },
  {
   "cell_type": "markdown",
   "metadata": {},
   "source": [
    "### 3.2 Manual level\n",
    "\n",
    "Don't touch the leg with the bolt but with the shaker off and a spirit level on experiment surface adjust the legs to get the surface reasonably level. You don't need to worry too much about this, just get it roughly right. The axes and direction are shown in the image below. The positive direction is the way the balls will move in the image. If you turn shaker on to allow balls to move and then run next cell it will show you level using the balls."
   ]
  },
  {
   "cell_type": "code",
   "execution_count": 5,
   "metadata": {},
   "outputs": [],
   "source": [
    "\n",
    "from labvision.images import display\n",
    "from labvision.images import draw_circle\n",
    "from labvision.camera import Camera\n",
    "from labvision.camera.camera_config import CameraType\n",
    "# This settings dictionary defines params for shaker and com_balls processing fn.\n",
    "from shaker.centre_mass import com_balls, com_bubble\n",
    "from shaker.settings import SETTINGS_com_balls, SETTINGS_com_bubble , update_settings_file   \n",
    "from shaker.plotting import draw_img_axes\n",
    "\n",
    "\n",
    "panasonic = CameraType.PANASONICHCX1000\n",
    "with Camera(cam_type=panasonic) as cam:\n",
    "    img = cam.get_frame()\n",
    "    #find centre of mass of balls in image\n",
    "    boundary_pts = update_settings_file()['boundary_pts'][0]\n",
    "    #x,y = com_balls(img, boundary_pts, img_settings=SETTINGS_com_balls['img_processing'])\n",
    "    x,y = com_bubble(img, boundary_pts, img_settings=SETTINGS_com_bubble['img_processing'])\n",
    "    \n",
    "    #plot measured centre of mass of balls on image\n",
    "    img = draw_circle(img, int(x), int(y), rad=4, color=(0,0,255), thickness=-1)\n",
    "    #draw coordinate axes on image\n",
    "    img = draw_img_axes(img)\n",
    "    display(img)"
   ]
  },
  {
   "cell_type": "markdown",
   "metadata": {},
   "source": [
    "### 3.3 Level with a ramp (Alternative to above)\n",
    "\n",
    "To level a dense system you'll need to include a ramp and repeats. Use the code below to do your quick checks."
   ]
  },
  {
   "cell_type": "code",
   "execution_count": 28,
   "metadata": {},
   "outputs": [
    {
     "name": "stdout",
     "output_type": "stream",
     "text": [
      "shaker init\n",
      "Serial control enabled.\n",
      "Manual control enabled.\n",
      "port closed\n",
      "Shaker communication closed\n"
     ]
    }
   ],
   "source": [
    "from labvision.camera import Camera\n",
    "from labvision.camera.camera_config import CameraType\n",
    "from shaker.shaker import Shaker\n",
    "from labvision.images import display\n",
    "from labvision.images import draw_circle\n",
    "from shaker.settings import update_settings_file, SETTINGS_com_bubble, SETTINGS_com_balls   \n",
    "from shaker.plotting import draw_img_axes\n",
    "from shaker.centre_mass import get_measurement \n",
    "\n",
    "boundary_pts = update_settings_file()['boundary_pts'][0]\n",
    "panasonic = CameraType.PANASONICHCX1000\n",
    "iterations=20\n",
    "\n",
    "with Shaker() as shaker, Camera(cam_type=panasonic) as cam:\n",
    "    \n",
    "    x,y,r,err_x,err_y,err_r = get_measurement(shaker, cam, boundary_pts, settings=SETTINGS_com_bubble, iterations=iterations)\n",
    "    img = cam.get_frame()\n",
    "    img = draw_circle(img, int(x), int(y), rad=4, color=(0,0,255), thickness=-1)\n",
    "    if iterations > 1:\n",
    "        img=draw_circle(img, int(x), int(y), rad=int(err_r), color=(0,255,0), thickness=2)\n",
    "    #draw coordinate axes on image\n",
    "    img = draw_img_axes(img)\n",
    "    display(img)    "
   ]
  },
  {
   "cell_type": "code",
   "execution_count": 24,
   "metadata": {},
   "outputs": [
    {
     "data": {
      "text/plain": [
       "[(917, 502)]"
      ]
     },
     "execution_count": 24,
     "metadata": {},
     "output_type": "execute_result"
    }
   ],
   "source": [
    "display(img)"
   ]
  },
  {
   "cell_type": "markdown",
   "metadata": {},
   "source": [
    "## 4 Set Motor Limits\n",
    "\n",
    "Movements in x and y ~ +/- 10000 seem enough to tip the shaker from one side to the other. You may bottom out the motors if not careful so make sure you know which way things are moving. You want one limit above and left and one below and right. You are trying to tell the system the motor limits that create a square box on the surface that it should search in. \n",
    "\n",
    "<div> <img src=\"imgs/level.png\" alt=\"Drawing\" style=\"width: 300px;\"/></div>\n",
    "\n",
    "*You only need to run this if not already set*. The system records the current motor position to a file so it will persist between experiments. However, if for example you crash some code when the motor has been told to move it could get out of sync. \n",
    "\n",
    "**Make sure shaker is on and running.**"
   ]
  },
  {
   "cell_type": "code",
   "execution_count": null,
   "metadata": {},
   "outputs": [],
   "source": [
    "## Set motor limits\n",
    "from shaker.balance import Balancer\n",
    "from shaker.stepperXY import StepperXY\n",
    "from shaker.shaker import Shaker\n",
    "from shaker.centre_mass import com_balls, com_bubble\n",
    "from labvision.camera import Camera\n",
    "from labvision.camera.camera_config import CameraType\n",
    "\n",
    "\n",
    "panasonic = CameraType.PANASONICHCX1000\n",
    "\n",
    "with Shaker() as shaker, StepperXY() as motors, Camera(cam_type=panasonic) as cam:\n",
    "    bal=Balancer(shaker, cam, motors, measure_fn=com_balls)\n",
    "    #bal=Balancer(shaker, cam, motors, measure_fn=com_bubble)\n",
    "    motor_limits = bal.set_motor_limits(set_limits=True)\n",
    "    bal.disp.close_window()\n"
   ]
  },
  {
   "cell_type": "markdown",
   "metadata": {},
   "source": [
    "## 5 Automatic levelling of the shaker\n",
    "\n",
    "When levelling system use the same balls being used for the experiments. The balls need to be cleaned in detergent, water, de-ionised water and dried. The levelling uses the 4k Video Capture card to take pictures of the tray. These images are processed using a function that works out where the centre of mass of all the particles in the tray is. At the start the user defines where the centre is by clicking the corners of the boundary. The system then moves the motors systematically to try and minimise the distance between the true centre of tray and centre of mass of particles.\n",
    "\n",
    "`initial_iterations` is the number of measurements per position to determine the centre of mass. Increase if the flucutations between images are too high.\n",
    "`ncalls` is how many steps it will take to try and level the system."
   ]
  },
  {
   "cell_type": "markdown",
   "metadata": {},
   "source": [
    "### 5.1 Leaving the system to get on with it\n",
    "\n",
    "*General Warning*\n",
    "\n",
    "The magnet that drives the shaker has a warming up period. Run the shaker at a dutycycle of 550 with the water cooler on for 120 mins before starting experiments. If you skip this step your accelerations won't be correctly calibrated to the duty_cycles.\n",
    "\n",
    "Before running the automated setup it is worth doing checks. Are all bits talking to the computer correctly! Switch on the water bath etc and start the shaker running then set the delay_timer at the top, hit run and leave it to get on with it. Check the shaker's toggle switch  is on. Don't forget to press the relay button on the back of the power supply. My personal favourite mistake!\n",
    "\n",
    "This code assumes you have already set the boundary points and the motor limits.\n",
    "\n",
    "1. The system will wait for delay_timer_hours with the shaker duty_cycle at 0\n",
    "2. The system will then warm up for 2 hours at a duty_cycle of 500\n",
    "3. The system will level itself (probably take a long time!)\n",
    "4. The system will collect an acceleration calibration curve\n",
    "5. You can come in and start work (hopefully ;-)\n",
    "\n",
    "The heart of the levelling is <a href=\"https://scikit-optimize.github.io/stable/modules/generated/skopt.gp_minimize.html\">skopt.gp_minimize</a>, although our code uses a fork of this code which contains a few datatype fixes (<a href=\"www.github.com/mikesmithlabteam/skopt\">our version</a>.)\n",
    "\n",
    "You need to set the parameters:\n",
    "\n",
    "`iterations`    :   How many times the measurement will be performed to obtain the average x,y before moving the motors to a new position\n",
    "\n",
    "`ncalls`        :   How many times the motors will be moved to try and find the best position\n",
    "\n",
    "You also need to decide on the `delay_timer_hours` and `warm_timer_hours`"
   ]
  },
  {
   "cell_type": "code",
   "execution_count": null,
   "metadata": {},
   "outputs": [],
   "source": [
    "import time\n",
    "\n",
    "from labvision.camera import Camera\n",
    "from labvision.camera.camera_config import CameraType\n",
    "from shaker.shaker import Shaker\n",
    "from shaker.balance import Balancer\n",
    "from shaker.stepperXY import StepperXY\n",
    "from shaker.centre_mass import com_balls, com_bubble\n",
    "from shaker.settings import update_settings_file\n",
    "\n",
    "\n",
    "# Delays the setup by x hours then warms for 2 hours\n",
    "delay_timer_hours = 0\n",
    "warm_timer_hours = 0#update_settings_file()['shaker_warmup_hours']\n",
    "warm_up_shaker_amplitude = update_settings_file()['shaker_warmup_duty']\n",
    "\n",
    "\n",
    "def start_expt_setup(delay_timer_hours):\n",
    "    for i in range(delay_timer_hours):\n",
    "        print('Starting expt setup in ' + str(delay_timer_hours - i) + ' hours')\n",
    "        time.sleep(3600)\n",
    "\n",
    "print('levelling...')\n",
    "panasonic = CameraType.PANASONICHCX1000 #creating camera object.\n",
    "\n",
    "start_time = time.time()\n",
    "\n",
    "with Shaker() as shaker, StepperXY() as motors, Camera(cam_type=panasonic) as cam:\n",
    "    shaker.set_duty(0)\n",
    "    start_expt_setup(delay_timer_hours)\n",
    "    shaker.set_duty(warm_up_shaker_amplitude)\n",
    "    start_expt_setup(warm_timer_hours)\n",
    "    #bal=Balancer(shaker, cam, motors, measure_fn=com_balls)\n",
    "    bal=Balancer(shaker, cam, motors, measure_fn=com_bubble)\n",
    "    result = bal.level(iterations=100, ncalls=40)\n",
    "\n",
    "finish_time = time.time()\n",
    "\n",
    "print('Setup time: ' + str(finish_time - start_time) + ' seconds')\n",
    "    "
   ]
  },
  {
   "cell_type": "markdown",
   "metadata": {},
   "source": [
    "### 5.2 View levelling Results\n",
    "\n",
    "This next step is for looking at the output of the levelling. How well did it do? The system will plot the cost function at each point and the final level of the system as a function of motor position. Do all the points lie on a single surface?"
   ]
  },
  {
   "cell_type": "code",
   "execution_count": null,
   "metadata": {},
   "outputs": [],
   "source": [
    "%matplotlib widget\n",
    "from shaker.plotting import plot_levelling\n",
    "from shaker.settings import SETTINGS_PATH, TRACK_LEVEL\n",
    "\n",
    "\n",
    "plot_levelling(SETTINGS_PATH, TRACK_LEVEL, TRACK_LEVEL[:-4] + '.png')\n"
   ]
  },
  {
   "cell_type": "markdown",
   "metadata": {},
   "source": [
    "If the motors get stuck during levelling you'll find that the cost function will not be single valued. You'll end up with a weird contour map. Could also be that your measurement is too noisy to allow the system to find the right answer.\n",
    "\n",
    "<div> <img src=\"imgs/stuck_motors.png\" alt=\"Drawing\" style=\"width: 500px;\"/></div>\n",
    "\n",
    "It will also not home in on the right answer. It should look something like this:\n",
    "\n",
    "<div> <img src=\"imgs/motors_moved_properly.png\" alt=\"Drawing\" style=\"width: 500px;\"/></div>\n",
    "\n",
    "Here's a corresponding cost minimisation plot:\n",
    "\n",
    "<div> <img src=\"imgs/cost_fn.png\" alt=\"Drawing\" style=\"width: 500px;\"/></div>"
   ]
  },
  {
   "cell_type": "markdown",
   "metadata": {},
   "source": [
    "## 6 Calibrating the system and accelerometer\n",
    "\n",
    "Run a script to collect duty cycles and corresponding measured peak accelerations from the RPI-LCD (i.e $\\Gamma = a\\omega^{2}/g$). The output file will be used in particle tracker to convert the duty cycle to the corresponding acceleration. The code on the RPI-LCD is in the <a href=\"https://github.com/mikesmithlab/Accelerometer\">Accelerometer</a> repository. The code is not universal since each accelerometer has to be calibrated. Calibrated accelerometers are marked and the uf2 files should be labelled accordingly. <a href=\"https://github.com/MikeSmithLabTeam/labequipment/blob/master/labequipment/accelerometer.py\">Labequipment</a> has python code to interface with and read results."
   ]
  },
  {
   "cell_type": "code",
   "execution_count": null,
   "metadata": {},
   "outputs": [],
   "source": [
    "%matplotlib widget\n",
    "import pandas as pd\n",
    "import time\n",
    "\n",
    "from shaker.calibrate_accelerometer import calibrate_accelerometer, plot_acceleration_calibration\n",
    "from shaker.settings import SETTINGS_PATH, ACCELEROMETER_FILE\n",
    "\n",
    "\n",
    "start_time = time.time()\n",
    "\n",
    "duty_cycles, acceleration = calibrate_accelerometer(start=450, stop=750, step=1)\n",
    "pd.DataFrame({'duty_cycle': duty_cycles, 'acceleration': acceleration}).to_csv(SETTINGS_PATH + ACCELEROMETER_FILE, index=False)\n",
    "\n",
    "finish_time = time.time()\n",
    "print('Calibration time: ' + str(finish_time - start_time) + ' seconds')\n",
    "\n"
   ]
  },
  {
   "cell_type": "code",
   "execution_count": null,
   "metadata": {},
   "outputs": [],
   "source": [
    "from shaker.calibrate_accelerometer import calibrate_accelerometer, plot_acceleration_calibration\n",
    "from shaker.settings import SETTINGS_PATH, ACCELEROMETER_FILE\n",
    "\n",
    "plot_acceleration_calibration()"
   ]
  },
  {
   "cell_type": "markdown",
   "metadata": {},
   "source": [
    "### 7 Setup experiment filestructure\n",
    "\n",
    "Use the next set of code to setup your filestructure etc. The filepath and naming are automatic and linked to date so that you can easily find your data and know that everything relevant is grouped together. A automatic script runs to backup the data to the NAS in this folder every night."
   ]
  },
  {
   "cell_type": "code",
   "execution_count": 42,
   "metadata": {},
   "outputs": [
    {
     "name": "stdout",
     "output_type": "stream",
     "text": [
      "Setting up new experimental folder :  E:/RawData/Mike/Intruders/Intruder_expts/2024_08_07\n"
     ]
    }
   ],
   "source": [
    "import os\n",
    "import datetime\n",
    "import shutil\n",
    "from shaker.settings import SETTINGS_PATH, TRACK_LEVEL, ACCELEROMETER_FILE\n",
    "\n",
    "project_filepath = 'E:/RawData/Mike/Intruders/Intruder_expts/'\n",
    "date_folder = datetime.datetime.now().strftime('%Y_%m_%d')\n",
    "\n",
    "#Don't want to overwrite by accident\n",
    "if not os.path.isdir(project_filepath + date_folder + '/'):\n",
    "    #Setup new folders\n",
    "    os.mkdir(project_filepath +date_folder + '/')\n",
    "    calibration_folder = project_filepath + date_folder + '/Calibrations/'\n",
    "    os.mkdir(project_filepath + date_folder + '/Calibrations/')\n",
    "\n",
    "    #Copy all levelling files to project folder/Calibrations\n",
    "    shutil.copy(SETTINGS_PATH + TRACK_LEVEL[:-4] + '.png', calibration_folder  + TRACK_LEVEL[:-4] + '_' + date_folder + '.png')\n",
    "    shutil.copy(SETTINGS_PATH + TRACK_LEVEL, calibration_folder  + TRACK_LEVEL[:-4] + '_' + date_folder + '.txt')\n",
    "    shutil.copy(SETTINGS_PATH + ACCELEROMETER_FILE , calibration_folder  + ACCELEROMETER_FILE[:-4] + '_' + date_folder + '.txt')\n",
    "    \n",
    "    print(\"Setting up new experimental folder : \", project_filepath + date_folder)\n",
    "else:\n",
    "    print(\"Folder already exists, no files copied.\")\n"
   ]
  },
  {
   "cell_type": "markdown",
   "metadata": {},
   "source": [
    "---\n",
    "\n",
    "## 9 Additional checks\n",
    "\n",
    "Everything below here is for additional checks. Have left it as the code may be useful in the future. The first box runs a timer function called in the others so run it first.\n",
    "\n"
   ]
  },
  {
   "cell_type": "code",
   "execution_count": 1,
   "metadata": {},
   "outputs": [],
   "source": [
    "import time\n",
    "\n",
    "def start_expt_setup(delay_timer_hours):\n",
    "    for i in range(delay_timer_hours):\n",
    "        print('Starting expt setup in ' + str(delay_timer_hours - i) + ' hours')\n",
    "        time.sleep(300)\n",
    "        # Get the current date and time\n",
    "    now = time.localtime()\n",
    "    # Convert it to a string\n",
    "    date_time_str = time.strftime(\"%Y-%m-%d %H:%M:%S\", now)\n",
    "    return date_time_str\n",
    "\n"
   ]
  },
  {
   "cell_type": "markdown",
   "metadata": {},
   "source": [
    "### 9.2 Monitor the level over time\n",
    "\n",
    "This code was written to check if the shaker goes out of level under different circumstances\n",
    "\n",
    "1. Continuous operation --> run it for a few days\n",
    "2. Cooling down and warming up --> run it a few times updating the file name each time (Not implemented yet but would be worth checking at some point)"
   ]
  },
  {
   "cell_type": "code",
   "execution_count": 3,
   "metadata": {},
   "outputs": [
    {
     "name": "stdout",
     "output_type": "stream",
     "text": [
      "shaker init\n",
      "Serial control enabled.\n",
      "Starting expt setup in 1 hours\n"
     ]
    }
   ],
   "source": [
    "from labvision.camera import Camera\n",
    "from labvision.camera.camera_config import CameraType\n",
    "from shaker.shaker import Shaker\n",
    "from shaker.settings import update_settings_file, SETTINGS_com_balls, SETTINGS_com_bubble \n",
    "from shaker.centre_mass import get_measurement \n",
    "\n",
    "\n",
    "\n",
    "boundary_pts = update_settings_file()['boundary_pts'][0]\n",
    "panasonic = CameraType.PANASONICHCX1000\n",
    "\n",
    "# Time between measurements\n",
    "delay_timer_hours = 1\n",
    "\n",
    "with Shaker() as shaker, Camera(cam_type=panasonic) as cam:\n",
    "    date_time_str = start_expt_setup(0)\n",
    "    while True:\n",
    "        x,y,r,err_x,err_y,err_r = get_measurement(shaker, cam, boundary_pts, settings=SETTINGS_com_bubble, iterations=10)\n",
    "        with open(project_filepath + 'continuous_operation_stability_level.txt', 'a') as f:\n",
    "            f.write(date_time_str + ',' + str(x) + ',' + str(y) + ',' + str(r) + ',' + str(err_x) + ',' + str(err_y) + ',' + str(err_r) + '\\n')  \n",
    "        date_time_str = start_expt_setup(delay_timer_hours)\n",
    "    "
   ]
  },
  {
   "cell_type": "markdown",
   "metadata": {},
   "source": [
    "### 9.2 Visualise how level varies over time\n",
    "\n",
    "Reads the centre of mass measurements from file over time and plots them. If it doesn't vary more than fluctuation then you are all good."
   ]
  },
  {
   "cell_type": "code",
   "execution_count": null,
   "metadata": {},
   "outputs": [],
   "source": [
    "import pandas as pd\n",
    "import matplotlib.pyplot as plt\n",
    "\n",
    "project_filepath = 'E:/RawData/Mike/Intruders/Intruder_expts/'\n",
    "\n",
    "with open(project_filepath + 'continuous_operation_stability_level_backup.txt', 'r') as f:\n",
    "    df = pd.read_csv(f, names=['date_time', 'x','y','r','err_x','err_y','err_r'], delimiter='\\t')\n",
    "\n",
    "print(df.head())\n",
    "fig, ax = plt.subplots(nrows=3, ncols=1, sharex=True, figsize=(8,8))\n",
    "ax[0].errorbar(df['date_time'], df['x'], yerr=df['err_x'], fmt='o',\n",
    "                 ecolor='black', elinewidth=1, markerfacecolor='red', markeredgecolor='black')\n",
    "ax[0].plot(df['date_time'], df['x'], 'k-')\n",
    "ax[0].set_ylabel('x')\n",
    "ax[1].errorbar(df['date_time'], df['y'], yerr=df['err_y'], fmt='o',\n",
    "                 ecolor='black', elinewidth=1, markerfacecolor='blue', markeredgecolor='black')\n",
    "ax[1].plot(df['date_time'], df['y'], 'k-')\n",
    "ax[1].set_ylabel('y')\n",
    "ax[2].errorbar(df['date_time'], df['r'],yerr=df['err_r'], fmt='o',\n",
    "                 ecolor='black', elinewidth=1, markerfacecolor='green', markeredgecolor='black')\n",
    "ax[2].plot(df['date_time'], df['r'], 'k-')\n",
    "ax[2].set_ylabel('r')\n",
    "plt.show()\n",
    "\n"
   ]
  },
  {
   "cell_type": "markdown",
   "metadata": {},
   "source": [
    "Example stability plot over 5 days. Much better than the measurement fluctuations.\n",
    "\n",
    "<div> <img src=\"imgs/stability.png\" alt=\"Drawing\" style=\"width: 500px;\"/></div>\n"
   ]
  },
  {
   "cell_type": "markdown",
   "metadata": {},
   "source": [
    "### Save measurements over time for post experiment analysis\n",
    "\n",
    "Looking at the bubbles formed (ie crystal edge and disordered centre) it seemed like there was a tendency for the bubbles to be longer than they were wide. Wondering if this might be some tiny difference due to for example how tight the bolts are, stressing the plates. This code essentially saves an image after each ramp / measurement. You can then look at the images and see if there is any obvious trend."
   ]
  },
  {
   "cell_type": "code",
   "execution_count": 50,
   "metadata": {},
   "outputs": [
    {
     "name": "stdout",
     "output_type": "stream",
     "text": [
      "shaker init\n",
      "Serial control enabled.\n"
     ]
    }
   ],
   "source": [
    "from labvision.camera import Camera\n",
    "from labvision.camera.camera_config import CameraType\n",
    "from shaker.shaker import Shaker\n",
    "from shaker.settings import SETTINGS_com_balls, SETTINGS_com_bubble\n",
    "from labvision.images.basics import save\n",
    "from shaker.settings import update_settings_file  \n",
    "import datetime\n",
    "from shaker.centre_mass import measure_com\n",
    "\n",
    "boundary_pts = update_settings_file()['boundary_pts'][0]\n",
    "panasonic = CameraType.PANASONICHCX1000\n",
    "\n",
    "# Time between measurements\n",
    "project_filepath = 'E:/RawData/Mike/Intruders/Intruder_expts/Ellipticity/'\n",
    "\n",
    "with Shaker() as shaker, Camera(cam_type=panasonic) as cam:\n",
    "    while True:\n",
    "        date_time_str = datetime.datetime.now().strftime('%Y_%m_%d_%H_%M_%S')\n",
    "        measure_com(cam, shaker, boundary_pts, settings=SETTINGS_com_bubble)\n",
    "        img = cam.get_frame()\n",
    "        save(img, project_filepath + 'ellipticity_' + date_time_str + '.png')"
   ]
  },
  {
   "cell_type": "markdown",
   "metadata": {},
   "source": [
    "Visualise all the images superimposed to see if there is any trend."
   ]
  },
  {
   "cell_type": "code",
   "execution_count": 49,
   "metadata": {},
   "outputs": [
    {
     "name": "stdout",
     "output_type": "stream",
     "text": [
      "254.96153\n"
     ]
    },
    {
     "data": {
      "text/plain": [
       "[(862, 229)]"
      ]
     },
     "execution_count": 49,
     "metadata": {},
     "output_type": "execute_result"
    }
   ],
   "source": [
    "from labvision.camera import Camera\n",
    "from labvision.camera.camera_config import CameraType\n",
    "from shaker.shaker import Shaker\n",
    "from shaker.settings import SETTINGS_com_balls, SETTINGS_com_bubble\n",
    "from labvision.images.basics import save, read_img, display\n",
    "from shaker.settings import update_settings_file  \n",
    "import datetime\n",
    "from shaker.centre_mass import measure_com\n",
    "from filehandling import BatchProcess\n",
    "import cv2\n",
    "import numpy as np\n",
    "\n",
    "boundary_pts = update_settings_file()['boundary_pts'][0]\n",
    "panasonic = CameraType.PANASONICHCX1000\n",
    "\n",
    "project_filepath = 'E:/RawData/Mike/Intruders/Intruder_expts/Ellipticity/'\n",
    "\n",
    "file_iterator = BatchProcess(project_filepath + 'ellipticity*.png')\n",
    "for i, filename in enumerate(file_iterator):\n",
    "    if i==0:\n",
    "        base_img = read_img(filename)\n",
    "        base_img=base_img.astype(np.float32)\n",
    "    else:\n",
    "        img = read_img(filename)\n",
    "        img=img.astype(np.float32)\n",
    "        base_img = base_img + img\n",
    "\n",
    "base_img = base_img / file_iterator.num_files\n",
    "print(np.max(base_img))\n",
    "base_img = base_img.astype('uint8')\n",
    "\n",
    "display(base_img)\n",
    "\n"
   ]
  },
  {
   "cell_type": "markdown",
   "metadata": {},
   "source": [
    "This is really flat. This is based off 80 images superimposed with the above code:\n",
    "\n",
    "<div> <img src=\"imgs/composite.png\" alt=\"Drawing\" style=\"width: 500px;\"/></div>"
   ]
  },
  {
   "cell_type": "code",
   "execution_count": null,
   "metadata": {},
   "outputs": [],
   "source": [
    "from os import read\n",
    "import numpy as np\n",
    "import matplotlib.pyplot as plt\n",
    "\n",
    "from shaker.centre_mass import com_bubble\n",
    "from filehandling import BatchProcess\n",
    "from shaker.settings import SETTINGS_com_bubble, update_settings_file\n",
    "from labvision.images.basics import read\n",
    "\n",
    "\n",
    "x = []\n",
    "y = []\n",
    "boundary_pts = update_settings_file()['boundary_pts'][0]\n",
    "\n",
    "for filename in BatchProcess('E:/RawData/Mike/Intruders/Intruder_expts/2024_06_20/', 'png'):\n",
    "    img = read(filename)\n",
    "    x0, y0 = com_bubble(img, boundary_pts, img_settings=SETTINGS_com_bubble['img_processing'])\n",
    "    x.append(x0)\n",
    "    y.append(y0)\n",
    "\n",
    "x=np.array(x)\n",
    "y=np.array(y)\n",
    "\n",
    "plt.figure()\n",
    "plt.plot(x,'r-')\n",
    "plt.plot(y,'b-')"
   ]
  },
  {
   "cell_type": "code",
   "execution_count": 27,
   "metadata": {},
   "outputs": [
    {
     "name": "stdout",
     "output_type": "stream",
     "text": [
      "mean x 563.0557710312098\n",
      "mean y 373.35774650541924\n",
      "[578.1666666666666, 361.3333333333333]\n"
     ]
    }
   ],
   "source": [
    "#Confirm the level of the shaker\n",
    "import pandas as pd\n",
    "x2=pd.Series(x)\n",
    "print('mean x',x2.rolling(window=100).mean().mean())\n",
    "y2=pd.Series(y)\n",
    "print('mean y', y2.rolling(window=100).mean().mean())\n",
    "print(update_settings_file()['boundary_pts'][1:3])"
   ]
  },
  {
   "cell_type": "markdown",
   "metadata": {},
   "source": [
    "## Repeatability\n",
    "\n",
    "Questions about whether motors stick or possible backlash in the motors. In v4 of arduino stepper motor code we added something to reduce backlash. The arduino code is setup so that if you ask a motor to move down it will move past the requested value by 100 steps and then move back up by 100 steps. If you move motor up it will move the requested distance. This should mean that the final state is always in tension and hopefully therefore reduce backlash. \n",
    "\n",
    "This python code moves backwards and forwards and measuring the position to see if the same answer is achieved."
   ]
  },
  {
   "cell_type": "code",
   "execution_count": 5,
   "metadata": {},
   "outputs": [
    {
     "name": "stdout",
     "output_type": "stream",
     "text": [
      "stepperxy init\n",
      "shaker init\n",
      "Serial control enabled.\n"
     ]
    },
    {
     "name": "stderr",
     "output_type": "stream",
     "text": [
      "100%|██████████| 5/5 [25:38<00:00, 307.65s/it]\n"
     ]
    },
    {
     "name": "stdout",
     "output_type": "stream",
     "text": [
      "Manual control enabled.\n",
      "port closed\n",
      "Shaker communication closed\n",
      "port closed\n"
     ]
    }
   ],
   "source": [
    "from shaker.stepperXY import StepperXY\n",
    "from labvision.camera import Camera\n",
    "from labvision.camera.camera_config import CameraType\n",
    "from shaker.shaker import Shaker\n",
    "from shaker.centre_mass import get_measurement\n",
    "from shaker.settings import update_settings_file \n",
    "from tqdm import tqdm\n",
    "\n",
    "\n",
    "\n",
    "positions = [0, 2000, 0, 2000, 0]\n",
    "\n",
    "panasonic = CameraType.PANASONICHCX1000\n",
    "\n",
    "cx=[]\n",
    "cy=[]\n",
    "repeats=5\n",
    "\n",
    "boundary_pts = update_settings_file()['boundary_pts'][0]\n",
    "\n",
    "\n",
    "\n",
    "with StepperXY() as motors, Shaker() as shaker, Camera(cam_type=panasonic) as cam:\n",
    "    #Get measurement is a function defined in one of the cells further up\n",
    "    x,y,r,err_x,err_y,err_r = get_measurement(shaker, cam, boundary_pts, iterations=10)\n",
    "    cx.append(x)\n",
    "    cy.append(y)\n",
    "    \n",
    "    for pos in tqdm(positions):\n",
    "        motors.movexy(pos, 0)\n",
    "        x,y,r,err_x,err_y,err_r = get_measurement(shaker, cam, boundary_pts, iterations=10)\n",
    "        cx.append(x)\n",
    "        cy.append(y)\n",
    "\n",
    "\n",
    "\n",
    "\n",
    "\n",
    "\n",
    "\n"
   ]
  },
  {
   "cell_type": "code",
   "execution_count": 3,
   "metadata": {},
   "outputs": [
    {
     "data": {
      "text/plain": [
       "[590.1622770162114,\n",
       " 592.5699139352058,\n",
       " 630.4456647249493,\n",
       " 584.7455030762375,\n",
       " 625.6071954361739,\n",
       " 591.2040058497766,\n",
       " 633.3244075091778,\n",
       " 591.1397263286583,\n",
       " 592.4388372601248,\n",
       " 590.2787317575107,\n",
       " 593.127553448822,\n",
       " 590.304732522069,\n",
       " 587.2590789034882,\n",
       " 589.9750268849755,\n",
       " 590.434247617391,\n",
       " 631.7239805691637,\n",
       " 588.3059026305949,\n",
       " 627.3381465868132,\n",
       " 589.9879467403103,\n",
       " 628.0063431034266,\n",
       " 586.4486600135575,\n",
       " 586.7907321563116,\n",
       " 581.7249257419596,\n",
       " 586.8544560568995,\n",
       " 586.7675502864847,\n",
       " 591.9998394916685,\n",
       " 588.132985101225,\n",
       " 586.7160210097161,\n",
       " 627.5220615320221,\n",
       " 583.5488875820058,\n",
       " 620.7528390979445,\n",
       " 582.8584671077366,\n",
       " 624.1222214838544,\n",
       " 587.9610199802518,\n",
       " 584.429508109144,\n",
       " 583.8441156015676,\n",
       " 583.7719927086132,\n",
       " 585.4941802859513,\n",
       " 590.3029246905509,\n",
       " 586.7800750091068,\n",
       " 580.812358858936,\n",
       " 621.978785056984,\n",
       " 579.2210103927027,\n",
       " 619.3386617265459,\n",
       " 580.7722809002603,\n",
       " 624.8243382215417,\n",
       " 574.9220897096554,\n",
       " 583.9301481876256,\n",
       " 577.7754319516227,\n",
       " 582.2224898190458,\n",
       " 578.0185668204929,\n",
       " 582.8079641106124,\n",
       " 574.5641522513407,\n",
       " 575.9201845385461,\n",
       " 623.181155624229,\n",
       " 577.6809203688726,\n",
       " 615.7453428700761,\n",
       " 578.4813925002976,\n",
       " 614.6484514259998,\n",
       " 573.8085858039819,\n",
       " 579.0797715415928,\n",
       " 574.0883064263184,\n",
       " 578.7494010920917,\n",
       " 578.7109480943033,\n",
       " 574.6436065038416,\n",
       " 572.0816805955585]"
      ]
     },
     "execution_count": 3,
     "metadata": {},
     "output_type": "execute_result"
    }
   ],
   "source": [
    "cx"
   ]
  },
  {
   "cell_type": "code",
   "execution_count": 6,
   "metadata": {},
   "outputs": [
    {
     "data": {
      "image/png": "[encoded data removed]",
      "text/plain": [
       "<Figure size 640x480 with 1 Axes>"
      ]
     },
     "metadata": {},
     "output_type": "display_data"
    },
    {
     "data": {
      "text/plain": [
       "<Figure size 640x480 with 0 Axes>"
      ]
     },
     "metadata": {},
     "output_type": "display_data"
    }
   ],
   "source": [
    "import matplotlib.pyplot as plt\n",
    "\n",
    "plt.figure()\n",
    "\n",
    "plt.plot(cx,'rx')\n",
    "\n",
    "plt.title('stepper motor code v4 with backlash correction')\n",
    "plt.show()\n",
    "plt.savefig('E:/RawData/Mike/Intruders/Intruder_expts/2024_06_20/centre_x.png')"
   ]
  },
  {
   "cell_type": "code",
   "execution_count": null,
   "metadata": {},
   "outputs": [],
   "source": []
  }
 ],
 "metadata": {
  "kernelspec": {
   "display_name": "dimples",
   "language": "python",
   "name": "python3"
  },
  "language_info": {
   "codemirror_mode": {
    "name": "ipython",
    "version": 3
   },
   "file_extension": ".py",
   "mimetype": "text/x-python",
   "name": "python",
   "nbconvert_exporter": "python",
   "pygments_lexer": "ipython3",
   "version": "3.10.13"
  },
  "orig_nbformat": 4
 },
 "nbformat": 4,
 "nbformat_minor": 2
}
