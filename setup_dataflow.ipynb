{
 "cells": [
  {
   "cell_type": "markdown",
   "metadata": {},
   "source": [
    "# Experiment log\n",
    "\n",
    "## System setup\n",
    "\n",
    "*General Warning*\n",
    "\n",
    "The magnet that drives the shaker has a warming up period. Run the shaker at a dutycycle of 500 with the water cooler on for 90 mins before starting experiments."
   ]
  },
  {
   "cell_type": "markdown",
   "metadata": {},
   "source": [
    "### Calibrating the system and accelerometer\n",
    "\n",
    "Run a script to collect duty cycles and corresponding measured peak accelerations (i.e $\\Gamma = a\\omega^{2}/g$). The output file will be used in particle tracker to convert the duty cycle to the corresponding acceleration."
   ]
  },
  {
   "cell_type": "code",
   "execution_count": 8,
   "metadata": {},
   "outputs": [
    {
     "name": "stdout",
     "output_type": "stream",
     "text": [
      "shaker init\n"
     ]
    },
    {
     "name": "stderr",
     "output_type": "stream",
     "text": [
      " 77%|███████▋  | 536/700 [58:31<17:54,  6.55s/it]  \n"
     ]
    },
    {
     "name": "stdout",
     "output_type": "stream",
     "text": [
      "port closed\n",
      "port closed\n",
      "Shaker communication closed\n"
     ]
    },
    {
     "ename": "KeyboardInterrupt",
     "evalue": "",
     "output_type": "error",
     "traceback": [
      "\u001b[1;31m---------------------------------------------------------------------------\u001b[0m",
      "\u001b[1;31mKeyboardInterrupt\u001b[0m                         Traceback (most recent call last)",
      "Cell \u001b[1;32mIn[8], line 4\u001b[0m\n\u001b[0;32m      1\u001b[0m \u001b[39mfrom\u001b[39;00m \u001b[39mshaker\u001b[39;00m\u001b[39m.\u001b[39;00m\u001b[39mcalibrate_accelerometer\u001b[39;00m \u001b[39mimport\u001b[39;00m calibrate_accelerometer\n\u001b[0;32m      2\u001b[0m \u001b[39mimport\u001b[39;00m \u001b[39mpandas\u001b[39;00m \u001b[39mas\u001b[39;00m \u001b[39mpd\u001b[39;00m\n\u001b[1;32m----> 4\u001b[0m duty_cycles, acceleration \u001b[39m=\u001b[39m calibrate_accelerometer(start\u001b[39m=\u001b[39;49m\u001b[39m200\u001b[39;49m, stop\u001b[39m=\u001b[39;49m\u001b[39m900\u001b[39;49m, step\u001b[39m=\u001b[39;49m\u001b[39m1\u001b[39;49m)\n\u001b[0;32m      5\u001b[0m pd\u001b[39m.\u001b[39mDataFrame({\u001b[39m'\u001b[39m\u001b[39mduty_cycle\u001b[39m\u001b[39m'\u001b[39m: duty_cycles, \u001b[39m'\u001b[39m\u001b[39macceleration\u001b[39m\u001b[39m'\u001b[39m: acceleration})\u001b[39m.\u001b[39mto_csv(\u001b[39m'\u001b[39m\u001b[39macceleration_calibration_curve.csv\u001b[39m\u001b[39m'\u001b[39m, index\u001b[39m=\u001b[39m\u001b[39mFalse\u001b[39;00m)\n",
      "File \u001b[1;32mc:\\Users\\ppzmis\\AppData\\Local\\miniconda3\\envs\\dimples\\lib\\site-packages\\shaker\\calibrate_accelerometer.py:33\u001b[0m, in \u001b[0;36mcalibrate_accelerometer\u001b[1;34m(start, stop, step)\u001b[0m\n\u001b[0;32m     31\u001b[0m     shaker\u001b[39m.\u001b[39mset_duty(duty_cycle)\n\u001b[0;32m     32\u001b[0m     time\u001b[39m.\u001b[39msleep(\u001b[39m5\u001b[39m)\n\u001b[1;32m---> 33\u001b[0m     peak_z \u001b[39m=\u001b[39m pk_acceleration(acc_obj)                               \u001b[39m#measure acceleration\u001b[39;00m\n\u001b[0;32m     34\u001b[0m     acceleration_measurements\u001b[39m.\u001b[39mappend(peak_z)                        \u001b[39m#append acc measurements\u001b[39;00m\n\u001b[0;32m     35\u001b[0m acceleration_measurements \u001b[39m=\u001b[39m np\u001b[39m.\u001b[39marray(acceleration_measurements)\n",
      "File \u001b[1;32mc:\\Users\\ppzmis\\AppData\\Local\\miniconda3\\envs\\dimples\\lib\\site-packages\\labequipment\\accelerometer.py:20\u001b[0m, in \u001b[0;36mpk_acceleration\u001b[1;34m(ard)\u001b[0m\n\u001b[0;32m      8\u001b[0m \u001b[39m\u001b[39m\u001b[39m\"\"\"\u001b[39;00m\n\u001b[0;32m      9\u001b[0m \u001b[39mThis function reads data from RPi Pico accelerometer and outputs current\u001b[39;00m\n\u001b[0;32m     10\u001b[0m \u001b[39mpeak z-acceleration reading.\u001b[39;00m\n\u001b[1;32m   (...)\u001b[0m\n\u001b[0;32m     17\u001b[0m \u001b[39m\u001b[39;00m\n\u001b[0;32m     18\u001b[0m \u001b[39m\"\"\"\u001b[39;00m\n\u001b[0;32m     19\u001b[0m ard\u001b[39m.\u001b[39mflush()\n\u001b[1;32m---> 20\u001b[0m line \u001b[39m=\u001b[39m ard\u001b[39m.\u001b[39;49mread_serial_line()\n\u001b[0;32m     21\u001b[0m data_vals\u001b[39m=\u001b[39mline\u001b[39m.\u001b[39msplit(\u001b[39m'\u001b[39m\u001b[39m,\u001b[39m\u001b[39m'\u001b[39m)\n\u001b[0;32m     22\u001b[0m peak_z \u001b[39m=\u001b[39m \u001b[39mfloat\u001b[39m(data_vals[\u001b[39m-\u001b[39m\u001b[39m1\u001b[39m])\n",
      "File \u001b[1;32mc:\\Users\\ppzmis\\AppData\\Local\\miniconda3\\envs\\dimples\\lib\\site-packages\\labequipment\\arduino.py:84\u001b[0m, in \u001b[0;36mArduino.read_serial_line\u001b[1;34m(self)\u001b[0m\n\u001b[0;32m     82\u001b[0m \u001b[39mwhile\u001b[39;00m size_of_input_buffer \u001b[39m==\u001b[39m \u001b[39m0\u001b[39m:\n\u001b[0;32m     83\u001b[0m     size_of_input_buffer \u001b[39m=\u001b[39m \u001b[39mself\u001b[39m\u001b[39m.\u001b[39mport\u001b[39m.\u001b[39minWaiting()\n\u001b[1;32m---> 84\u001b[0m     time\u001b[39m.\u001b[39;49msleep(\u001b[39m0.1\u001b[39;49m)\n\u001b[0;32m     85\u001b[0m text \u001b[39m=\u001b[39m \u001b[39mself\u001b[39m\u001b[39m.\u001b[39mport\u001b[39m.\u001b[39mreadline()\n\u001b[0;32m     86\u001b[0m \u001b[39mreturn\u001b[39;00m text\u001b[39m.\u001b[39mdecode()\n",
      "\u001b[1;31mKeyboardInterrupt\u001b[0m: "
     ]
    }
   ],
   "source": [
    "\n",
    "from shaker.calibrate_accelerometer import calibrate_accelerometer\n",
    "import pandas as pd\n",
    "\n",
    "duty_cycles, acceleration = calibrate_accelerometer(start=200, stop=900, step=1)\n",
    "pd.DataFrame({'duty_cycle': duty_cycles, 'acceleration': acceleration}).to_csv('acceleration_calibration_curve.csv', index=False)"
   ]
  },
  {
   "cell_type": "code",
   "execution_count": null,
   "metadata": {},
   "outputs": [],
   "source": []
  }
 ],
 "metadata": {
  "kernelspec": {
   "display_name": "dimples",
   "language": "python",
   "name": "python3"
  },
  "language_info": {
   "codemirror_mode": {
    "name": "ipython",
    "version": 3
   },
   "file_extension": ".py",
   "mimetype": "text/x-python",
   "name": "python",
   "nbconvert_exporter": "python",
   "pygments_lexer": "ipython3",
   "version": "3.10.13"
  },
  "orig_nbformat": 4
 },
 "nbformat": 4,
 "nbformat_minor": 2
}
