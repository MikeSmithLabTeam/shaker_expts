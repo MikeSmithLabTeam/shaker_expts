{
 "cells": [
  {
   "cell_type": "markdown",
   "metadata": {},
   "source": [
    "# Experiment log\n",
    "\n",
    "## System setup\n",
    "\n",
    "*General Warning*\n",
    "\n",
    "The magnet that drives the shaker has a warming up period. Run the shaker at a dutycycle of 500 with the water cooler on for 90 mins before starting experiments."
   ]
  },
  {
   "cell_type": "markdown",
   "metadata": {},
   "source": [
    "### Calibrating the system and accelerometer\n",
    "\n",
    "Run a script to collect duty cycles and corresponding measured peak accelerations from the RPI-LCD (i.e $\\Gamma = a\\omega^{2}/g$). The output file will be used in particle tracker to convert the duty cycle to the corresponding acceleration. The code on the RPI-LCD is in the <a href=\"https://github.com/mikesmithlab/Accelerometer\">Accelerometer</a> repository. <a href=\"https://github.com/MikeSmithLabTeam/labequipment/blob/master/labequipment/accelerometer.py\">Labequipment</a> has python code to interface with and read results."
   ]
  },
  {
   "cell_type": "code",
   "execution_count": 9,
   "metadata": {},
   "outputs": [
    {
     "name": "stdout",
     "output_type": "stream",
     "text": [
      "shaker init\n"
     ]
    },
    {
     "name": "stderr",
     "output_type": "stream",
     "text": [
      "100%|██████████| 700/700 [1:16:17<00:00,  6.54s/it]\n"
     ]
    },
    {
     "name": "stdout",
     "output_type": "stream",
     "text": [
      "port closed\n",
      "port closed\n",
      "Shaker communication closed\n"
     ]
    }
   ],
   "source": [
    "from shaker.calibrate_accelerometer import calibrate_accelerometer\n",
    "import pandas as pd\n",
    "\n",
    "duty_cycles, acceleration = calibrate_accelerometer(start=200, stop=900, step=1)\n",
    "pd.DataFrame({'duty_cycle': duty_cycles, 'acceleration': acceleration}).to_csv('acceleration_calibration_curve.csv', index=False)"
   ]
  },
  {
   "cell_type": "markdown",
   "metadata": {},
   "source": [
    "## Levelling the system\n",
    "\n",
    "When levelling system use the balls being used for the experiments. \n",
    "\n"
   ]
  },
  {
   "cell_type": "code",
   "execution_count": null,
   "metadata": {},
   "outputs": [],
   "source": [
    "from shaker.levelling import balance_shaker"
   ]
  },
  {
   "cell_type": "markdown",
   "metadata": {},
   "source": [
    "Already have duty_cycle postprocessing function in particletracker.\n",
    "Need to add postprocessing function that adds calibrated accelerations to df in particletracker."
   ]
  },
  {
   "cell_type": "markdown",
   "metadata": {},
   "source": []
  }
 ],
 "metadata": {
  "kernelspec": {
   "display_name": "dimples",
   "language": "python",
   "name": "python3"
  },
  "language_info": {
   "codemirror_mode": {
    "name": "ipython",
    "version": 3
   },
   "file_extension": ".py",
   "mimetype": "text/x-python",
   "name": "python",
   "nbconvert_exporter": "python",
   "pygments_lexer": "ipython3",
   "version": "3.10.13"
  },
  "orig_nbformat": 4
 },
 "nbformat": 4,
 "nbformat_minor": 2
}
